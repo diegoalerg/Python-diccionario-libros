{
 "cells": [
  {
   "cell_type": "code",
   "execution_count": 2,
   "metadata": {},
   "outputs": [
    {
     "name": "stdout",
     "output_type": "stream",
     "text": [
      "¿Cuantas obras escribió J._R._R._Tolkien?\n",
      "Escribe la respuesta: 54\n",
      "54 no es correcto. Escribió 29 obras\n"
     ]
    }
   ],
   "source": [
    "#QUIERO SABER CUANTAS OBRAS HA ESCRITO DETERMINADO AUTOR\n",
    "from rdflib import Graph, URIRef\n",
    "\n",
    "authors = ['J._R._R._Tolkien']\n",
    "\n",
    "def get_works_number(author): #defino funcion\n",
    "    g = Graph() #donde se interrelacinan todos los statements relativos a una novela\n",
    "    author_uri = \"http://dbpedia.org/resource/\" + author\n",
    "    #parseamos el grafo con los statements\n",
    "    g.parse(author_uri)\n",
    "    #\n",
    "    #\n",
    "    author_works_list = g.subject_objects(URIRef(\"http://dbpedia.org/ontology/author\"))\n",
    "    works_list = []\n",
    "    for stmt in author_works_list:\n",
    "        #print(stmt)\n",
    "        works_list.append(stmt[0])\n",
    "    return len(works_list)\n",
    "\n",
    "for a in authors:\n",
    "    question = \"¿Cuantas obras escribió \" + a + \"?\"\n",
    "    print(question)\n",
    "    your_number = int(input(\"Escribe la respuesta: \"))\n",
    "    #\n",
    "    #\n",
    "    author_uri = \"http://dbpedia.org/resource/\" + a\n",
    "    #Buscamos el numero real de obras\n",
    "    real_number = get_works_number(a)\n",
    "    if real_number == your_number:\n",
    "        print(\"Felicidades, has acertado\")\n",
    "    else:\n",
    "        print(str(your_number) + \" no es correcto. Escribió \"+ str(real_number) + \" obras\")\n",
    "        \n"
   ]
  },
  {
   "cell_type": "code",
   "execution_count": 3,
   "metadata": {},
   "outputs": [
    {
     "name": "stdout",
     "output_type": "stream",
     "text": [
      "Muy bien,  The_Father_Christmas_Letters Es una obra de tolkien\n"
     ]
    }
   ],
   "source": [
    "##OTRO EJERCICIO colocar una novela y saber si es de tolkien o no\n",
    "titulos = ['The_Father_Christmas_Letters']\n",
    "#______funcion para generar lista de novelas\n",
    "def test_tolkien(novel): #defino funcion\n",
    "    t = False\n",
    "    g = Graph() #donde se interrelacinan todos los statements relativos a una novela\n",
    "    tolkien_uri = \"http://dbpedia.org/resource/J._R._R._Tolkien\"\n",
    "    #print(tolkien_uri)\n",
    "    #parseamos el grafo con los statements\n",
    "    g.parse(tolkien_uri)\n",
    "    #\n",
    "    #\n",
    "    tolkien_novel_list = g.subject_objects(URIRef(\"http://dbpedia.org/ontology/author\"))\n",
    "   # print(tolkien_novel_list) generator object\n",
    "    tolkien_novel_titles = []\n",
    "    for tnl in tolkien_novel_list:\n",
    "        #print(tnl) #Par suj, obj encontrado en el generator\n",
    "        tolkien_novel_titles.append(tnl[0].split('/')[-1])\n",
    "    if novel in tolkien_novel_titles:\n",
    "        t=True\n",
    "    return t\n",
    "\n",
    "\n",
    "for t in titulos:\n",
    "    es_de_tolkien = test_tolkien(t)\n",
    "    if es_de_tolkien == True:\n",
    "        print(\"Muy bien, \", t, \"Es una obra de tolkien\")\n",
    "    else:\n",
    "        print(\"Lo siento \", t, \"no es de Tolkien\")\n",
    "        \n"
   ]
  },
  {
   "cell_type": "code",
   "execution_count": 5,
   "metadata": {},
   "outputs": [],
   "source": [
    "import requests\n",
    "from requests_oauthlib import OAuth1\n",
    "from pprint import pprint\n",
    "\n",
    "consumer_key = 'gjysqfr4Jy8lAzIuxa8Hpu2VY'\n",
    "consumer_secret = 'C8ANS2lInCj8I1SinulfzQnbO0QWCdxglYpw8305UzUH7MUWGl'\n",
    "access_token = '2788714541-Yy6bpudQA07wVAWIeUxd4SIRPfWP6ER4wAEINhN'\n",
    "access_token_secret = 'VJPnRK1fVU9ztFimI9tOrD746oTpHeeXlqgtbjL0SFZt4'\n",
    "\n",
    "url = 'https://api.twitter.com/l.l/account/verify_credentials.json'\n",
    "auth = OAuth1(consumer_key, consumer_secret, access_token, access_token_secret)\n",
    "requests.get(url, auth=auth)\n",
    "\n",
    "r = requests.get('https://api.twitter.com/1.1/search/tweets.json?q=python' , auth=auth)\n",
    "a = r.json()\n"
   ]
  },
  {
   "cell_type": "code",
   "execution_count": null,
   "metadata": {},
   "outputs": [],
   "source": []
  }
 ],
 "metadata": {
  "kernelspec": {
   "display_name": "Python 3",
   "language": "python",
   "name": "python3"
  },
  "language_info": {
   "codemirror_mode": {
    "name": "ipython",
    "version": 3
   },
   "file_extension": ".py",
   "mimetype": "text/x-python",
   "name": "python",
   "nbconvert_exporter": "python",
   "pygments_lexer": "ipython3",
   "version": "3.7.4"
  }
 },
 "nbformat": 4,
 "nbformat_minor": 2
}
